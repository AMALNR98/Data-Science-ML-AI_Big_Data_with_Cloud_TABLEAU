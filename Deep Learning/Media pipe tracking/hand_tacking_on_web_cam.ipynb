{
 "cells": [
  {
   "cell_type": "code",
   "execution_count": 1,
   "metadata": {},
   "outputs": [],
   "source": [
    "import cv2\n",
    "import mediapipe as mp\n",
    "import matplotlib.pyplot as plt"
   ]
  },
  {
   "cell_type": "code",
   "execution_count": 4,
   "metadata": {},
   "outputs": [
    {
     "name": "stderr",
     "output_type": "stream",
     "text": [
      "I0000 00:00:1704682251.469609    5897 gl_context_egl.cc:85] Successfully initialized EGL. Major : 1 Minor: 5\n",
      "I0000 00:00:1704682251.471125    8824 gl_context.cc:344] GL version: 3.2 (OpenGL ES 3.2 Mesa 21.2.6), renderer: Mesa Intel(R) UHD Graphics 620 (WHL GT2)\n"
     ]
    }
   ],
   "source": [
    "mp_hands = mp.solutions.hands\n",
    "hands = mp_hands.Hands(min_detection_confidence=0.3)\n",
    "mp_drawing = mp.solutions.drawing_utils"
   ]
  },
  {
   "cell_type": "code",
   "execution_count": 5,
   "metadata": {},
   "outputs": [],
   "source": [
    "cap = cv2.VideoCapture(0)\n",
    "while cap.isOpened():\n",
    "    success, frame = cap.read()\n",
    "    if not success:\n",
    "        break\n",
    "    frame = cv2.flip(frame, 1)\n",
    "    results = hands.process(frame)\n",
    "    if results.multi_hand_landmarks:\n",
    "        for hand_no, hand_landmarks in enumerate(results.multi_hand_landmarks):\n",
    "         mp_drawing.draw_landmarks(\n",
    "            image=frame,\n",
    "            landmark_list=hand_landmarks,\n",
    "            connections=mp_hands.HAND_CONNECTIONS\n",
    "            )\n",
    "    cv2.imshow('Hand Tracking', frame)\n",
    "    if cv2.waitKey(1) & 0XFF == 27:  # OXFF is ASCII code for etc button\n",
    "        break\n",
    "cap.release()\n",
    "cv2.destroyAllWindows()"
   ]
  },
  {
   "cell_type": "code",
   "execution_count": 10,
   "metadata": {},
   "outputs": [],
   "source": [
    "# cap = cv2.VideoCapture(0)\n",
    "# while True:\n",
    "#     sucess, frame = cap.read()\n",
    "\n",
    "#     frame = cv2.resize(frame, (800,800))\n",
    "#     results = hands.process(frame)\n",
    "\n",
    "#     if results.multi_hand_landmarks:    # checking if multi hand landmarks ouucred\n",
    "#         for hand_no, hand_landmarks in enumerate(results.multi_hand_landmarks):\n",
    "#             mp_drawing.draw_landmarks(\n",
    "#                 image=frame,\n",
    "#                 landmark_list=hand_landmarks,\n",
    "#                 connections=mp_hands.HAND_CONNECTIONS\n",
    "#             )\n",
    "#     cv2.imshow('hand tracking', frame)\n",
    "#     if cv2.waitKey(1) & 0xFF == 27:\n",
    "#         break\n",
    "# cap.release()\n",
    "# cv2.destroyAllWindows()\n",
    "    "
   ]
  }
 ],
 "metadata": {
  "kernelspec": {
   "display_name": "Python 3",
   "language": "python",
   "name": "python3"
  },
  "language_info": {
   "codemirror_mode": {
    "name": "ipython",
    "version": 3
   },
   "file_extension": ".py",
   "mimetype": "text/x-python",
   "name": "python",
   "nbconvert_exporter": "python",
   "pygments_lexer": "ipython3",
   "version": "3.8.10"
  }
 },
 "nbformat": 4,
 "nbformat_minor": 2
}
