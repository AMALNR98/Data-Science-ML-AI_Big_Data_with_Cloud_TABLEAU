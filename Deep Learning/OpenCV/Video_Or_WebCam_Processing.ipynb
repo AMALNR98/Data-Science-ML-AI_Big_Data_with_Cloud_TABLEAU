{
 "cells": [
  {
   "cell_type": "code",
   "execution_count": 1,
   "metadata": {},
   "outputs": [],
   "source": [
    "import cv2\n",
    "cap = cv2.VideoCapture(0)"
   ]
  },
  {
   "cell_type": "code",
   "execution_count": 2,
   "metadata": {},
   "outputs": [],
   "source": [
    "# reading captured video frame by frame\n",
    "while True:\n",
    "    success, frame = cap.read() # success is an variable name. here we should give 2 variable name\n",
    "    cv2.imshow('video capture', frame)\n",
    "    if cv2.waitKey(1) & 0XFF == 27:  # OXFF is ASCII code for etc button\n",
    "        break\n",
    "cap.release()\n",
    "cv2.destroyAllWindows()"
   ]
  },
  {
   "cell_type": "markdown",
   "metadata": {},
   "source": [
    "Converting captured video to grey scale"
   ]
  },
  {
   "cell_type": "code",
   "execution_count": 3,
   "metadata": {},
   "outputs": [],
   "source": [
    "cap2 = cv2.VideoCapture(0)\n",
    "while True:\n",
    "    success, frame = cap2.read()\n",
    "    # frame = cv2.cvtColor(frame,cv2.COLOR_BGR2GRAY)\n",
    "    frame = cv2.cvtColor(frame, cv2.COLOR_BGR2GRAY)\n",
    "    cv2.imshow('video capture',frame)\n",
    "    if cv2.waitKey(1) & 0XFF == 27:  # OXFF is ASCII code for etc button\n",
    "        break\n",
    "cap.release()\n",
    "cv2.destroyAllWindows()"
   ]
  },
  {
   "cell_type": "code",
   "execution_count": null,
   "metadata": {},
   "outputs": [],
   "source": []
  }
 ],
 "metadata": {
  "kernelspec": {
   "display_name": "Python 3",
   "language": "python",
   "name": "python3"
  },
  "language_info": {
   "codemirror_mode": {
    "name": "ipython",
    "version": 3
   },
   "file_extension": ".py",
   "mimetype": "text/x-python",
   "name": "python",
   "nbconvert_exporter": "python",
   "pygments_lexer": "ipython3",
   "version": "3.8.0"
  }
 },
 "nbformat": 4,
 "nbformat_minor": 2
}
